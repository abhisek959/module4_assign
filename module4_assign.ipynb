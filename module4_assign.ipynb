{
  "nbformat": 4,
  "nbformat_minor": 0,
  "metadata": {
    "colab": {
      "provenance": []
    },
    "kernelspec": {
      "name": "python3",
      "display_name": "Python 3"
    },
    "language_info": {
      "name": "python"
    }
  },
  "cells": [
    {
      "cell_type": "markdown",
      "source": [
        "Q1. What are data structures, and why are they important?\n",
        "\n",
        "A-> Data structures are ways to organise and store data so that they can be accessed and modified efficiently. They act as container for storing data in specific format, allowing us to perfom operations such as adding, removing, sorting, etc. Python has several built-in data structures such as lists (ordered and mutable), tuples(ordered and immutable), dictionaries(stores item in key -valu pair), set (unordered collection of unique items).\n",
        "\n",
        "Data sets are important because they directly impact how efficiently a program runs and how easy it is to work with data. Here are some of the significance of the data structures:-\n",
        "a) Efficiency-Different data structures are optimized for different tasks. Ex- looking up a value in dictionary is much easier than in other data sturctues.\n",
        "\n",
        "b) Optimization- Choosing right stucture speeds up the processing time.\n",
        "\n",
        "c) Flexibility- Different data sturctues provides flexibility in handling different types of data such as a seuence can be stored in list, while relationship can be stored in dictionaries.\n",
        "\n",
        "d) Code Readability- Data structures makes code more intuitive. Tuples means items can not be changed, while set means only unique items.\n"
      ],
      "metadata": {
        "id": "WUTUDtEc8ekx"
      }
    },
    {
      "cell_type": "markdown",
      "source": [],
      "metadata": {
        "id": "kKnaFv3D2xMU"
      }
    },
    {
      "cell_type": "markdown",
      "source": [
        "Q2. Explain the difference between mutable and immutable data types with examples.\n",
        "\n",
        "A->  Mutable data type are the one which can be modified after they have been created. Changes are made to the original object in memory. Example of mutable data types are list, dictionaries, sets.\n",
        "\n",
        "Immutable data type are the one which can not be modified after their creation. If we attempt to modify an immutable object then it crates a new object in memory. Example of immutable data type is strings, tuple, integer, float.\n",
        "\n",
        "Ex. - Mutable data type\n",
        "my_list=[2,3,4] # Created a list(mutable data type)\n",
        "print(my_list)\n",
        "print(my_list.append())  # Modified the list, modification happens in original variable i.e my_list.\n",
        "\n",
        "Ex. - Immutable data type\n",
        "my_str = \"Hello\"\n",
        "print(\"Before modification= \", my_str)\n",
        "\n",
        "my_str = my_str + \" World\"  # Creates a new string object\n",
        "print(\"After modification= \", my_str)\n"
      ],
      "metadata": {
        "id": "uwaGE15X3AMc"
      }
    },
    {
      "cell_type": "markdown",
      "source": [
        "Q3.  What are the main differences between lists and tuples in Python?\n",
        "\n",
        "A->    List                                 \n",
        "1. Mutable(can be modified                  \n",
        "2. syntax is []                            \n",
        "3. It is slower due to mutability          \n",
        "4. uses more memory                        \n",
        "5. used when modification is needed        \n",
        "\n",
        "Tuples\n",
        "                   \n",
        "1. Immutable(cannot be modified)\n",
        "2. syntax of tuple is ()\n",
        "3. Faster compared to lists\n",
        "4. uses less memory\n",
        "5. used when we dont need to change items\n"
      ],
      "metadata": {
        "id": "lvExPbicBcWp"
      }
    },
    {
      "cell_type": "markdown",
      "source": [
        "Q4.  Describe how dictionaries store data.\n",
        "\n",
        "A-> Dictionaries store item in key-value pair, and use hash table internally to store keys.\n",
        "Each item in dictionary is in key-value pair.\n",
        "Python uses hash value for each key using the hash () function. This hash decides where the value is stored in memory. Only immutable objects can be stored as keys as their hash must remain constant."
      ],
      "metadata": {
        "id": "rdZDVrN-FQpT"
      }
    },
    {
      "cell_type": "markdown",
      "source": [
        "Q5. Why might you use a set instead of a list in Python?\n",
        "\n",
        "A->  We can use set in the following situations:-\n",
        "\n",
        "1. A set automatically removes duplicates, so we want uniue values only we can use set instead of list.\n",
        "2. A set is faster in performing operations as it uses hashability to store values.\n",
        "3. We can use set when we want to perform mathematical operations like union, intersection, difference,etc.\n"
      ],
      "metadata": {
        "id": "YzJGJyoJO5XL"
      }
    },
    {
      "cell_type": "markdown",
      "source": [
        "Q6.  What is a string in Python, and how is it different from a list?\n",
        "\n",
        "A-> String is a sequence of characters  enclosed within qoutes (both single and double qoutes can be used to create string). The basic difference string and list is that string is immutable whereas lists are mutable. Also, strings contains text i.e characters whereas lists can contain any data type. i.e integers, float, boolean, strings, etc."
      ],
      "metadata": {
        "id": "iuks4a28RUsq"
      }
    },
    {
      "cell_type": "markdown",
      "source": [
        "Q7. How do tuples ensure data integrity in Python\n",
        "\n",
        "A-> Data integrity means data is consistent and free from unintentional changes.\n",
        "Tuples cannot be modified after their creation which prevents it from getting changed accidently."
      ],
      "metadata": {
        "id": "Uo4p4z-ubP7n"
      }
    },
    {
      "cell_type": "markdown",
      "source": [],
      "metadata": {
        "id": "StSgNx7hcxYP"
      }
    },
    {
      "cell_type": "markdown",
      "source": [
        "Q8.What is a hash table, and how does it relate to dictionaries in Python?\n",
        "\n",
        "A-> A hash table is type of a data structure that stores key-value pairs which allows it to access data quickly using unique keys.\n",
        "It is like opening a lock using unique fingerprint.\n",
        "Each key is passed through a hash function which gives it a hash value which points to a unique location in memory where value is stored."
      ],
      "metadata": {
        "id": "q0-jbR5gc9Ek"
      }
    },
    {
      "cell_type": "markdown",
      "source": [
        "Q9. Can lists contain different data types in Python?\n",
        "\n",
        "A-> Yes, lists in Python are heterogeneous data structures, meaning they can store elements of different data types such as int, float, str, bool, or even other lists and objects.\n",
        "this flexibility makes it very useful for handling mixed data types."
      ],
      "metadata": {
        "id": "SLDMOeBhepph"
      }
    },
    {
      "cell_type": "markdown",
      "source": [
        "Q10.  Explain why strings are immutable in Python.\n",
        "\n",
        "A-> Strings are immutable data type meaning they cannot be changed after its creation. Any attempt to change it might create a new string i.e, a new variable rather than changing the original string.\n",
        "\n",
        "Strings are immutable to maintain data integerity, ensure performance optimization, and also to enable hashability."
      ],
      "metadata": {
        "id": "_Ff4_rU4fWW3"
      }
    },
    {
      "cell_type": "markdown",
      "source": [
        "Q11. What advantages do dictionaries offer over lists for certain tasks?\n",
        "\n",
        "A-> In dictionaries we can fetch values using keys unlike lists where we position/index to fetch items.\n",
        "Dictinaries also enable faster lookup compared to lists since they use unique keys.\n"
      ],
      "metadata": {
        "id": "xWZBz2d7iJS8"
      }
    },
    {
      "cell_type": "markdown",
      "source": [
        "Q12. Describe a scenario where using a tuple would be preferable over a list.\n",
        "\n",
        "A-> Using a tuple makes sense when we want to use fixed , unchangeable group of values when data should not be used."
      ],
      "metadata": {
        "id": "dDy8RsK9junr"
      }
    },
    {
      "cell_type": "markdown",
      "source": [
        "Q13. How do sets handle duplicate values in Python?\n",
        "\n",
        "A-> A set, being an unordered collection of uniqu values. When you create a set, duplicate values are iqnored as only one value of each instance is stored."
      ],
      "metadata": {
        "id": "36thi6Fvly6f"
      }
    },
    {
      "cell_type": "markdown",
      "source": [
        "Q14. How does the “in” keyword work differently for lists and dictionaries?\n",
        "\n",
        "A-> In lists \"in\" keyword checks if the item exits in list one by one.\n",
        "In dictionary, it checks if key exits in dictionary and not the value. It uses hashing in dictionary and hence is faster compared to list."
      ],
      "metadata": {
        "id": "oMfpgWz9mlrj"
      }
    },
    {
      "cell_type": "markdown",
      "source": [
        "Q15. Can you modify the elements of a tuple? Explain why or why not.\n",
        "\n",
        "A-> As tuples are immutable hence cannot be modified.\n",
        "They are immutable to ensure data integrity, to enable hashability and for faster performance."
      ],
      "metadata": {
        "id": "8XQmVTFFoBoQ"
      }
    },
    {
      "cell_type": "markdown",
      "source": [
        "Q16. What is a nested dictionary, and give an example of its use case?\n",
        "\n",
        "A-> A nested dictionary is a dictionary that contains other dictionaries as values. In other words, dictionaries can have another dictionary as their value.\n",
        "\n",
        "Eg.\n",
        "contacts = {\n",
        "    \"Abhisek\": {\n",
        "        \"phone\": \"9978659045\",\n",
        "        \"email\": \"abhisek@gmail.com\",\n",
        "        \"address\": \"34 Bharat Street, India.\"\n",
        "    }\n",
        "}\n",
        "\n",
        "# Accessing Abhisek's phone number\n",
        "print(contacts[\"Abhisek\"][\"phone\"])  # Output: 9978659045\n",
        "\n",
        "# Accessing Abhisek's email\n",
        "print(contacts[\"Abhisek\"][\"email\"])  # Output: abhisek@gmail.com"
      ],
      "metadata": {
        "id": "5J4Nj87_omMs"
      }
    },
    {
      "cell_type": "markdown",
      "source": [
        "Q17. Describe the time complexity of accessing elements in a dictionary.\n",
        "\n",
        "A-> In Python, dictionaries are implemented using hash tables. This implementation provides fast lookups by associating keys with values through a hashing process.\n",
        "\n",
        "Time Complexity:\n",
        "Average Case: O(1) Constant time\n"
      ],
      "metadata": {
        "id": "6pVXJyf2peIh"
      }
    },
    {
      "cell_type": "markdown",
      "source": [
        "Q18.  In what situations are lists preferred over dictionaries?\n",
        "\n",
        "A-> If you need to store a sequence of items that you need to access based on their position or index rather than by a specific key, then we use lists over dictionary.\n",
        "\n",
        "When we want to maintain the sequence of items, we can use lists over dictioanries.\n",
        "\n",
        "When dont need to store items in form of relationship i.e when we need to store independent data we can use lists."
      ],
      "metadata": {
        "id": "cfMeiZD6qBmC"
      }
    },
    {
      "cell_type": "markdown",
      "source": [
        "Q19. Why are dictionaries considered unordered, and how does that affect data retrieval?\n",
        "\n",
        "A-> Dictionaries preserver the order in which key value pairs are inserted into it but even then they are considered unordered as we access values of dictionaries using their keys and not using their index/position.\n",
        "\n",
        "Dictionaries store key value pair using hashing mechanism and hence are able to retrieve values associated keys using keys which is faster as compared to lists."
      ],
      "metadata": {
        "id": "I8XRCNPGqT0X"
      }
    },
    {
      "cell_type": "markdown",
      "source": [
        "Q20.  Explain the difference between a list and a dictionary in terms of data retrieval.\n",
        "\n",
        "A-> In lists data is accessed using positon/index whereas in dictionary we use key to access its value."
      ],
      "metadata": {
        "id": "NFzq6m-SrtGl"
      }
    },
    {
      "cell_type": "code",
      "source": [
        "# Q1. Write a code to create a string with your name and print it.\n",
        "\n",
        "my_string=\"Abhisek Kumar\"\n",
        "print(\"My name is \",my_string)"
      ],
      "metadata": {
        "colab": {
          "base_uri": "https://localhost:8080/"
        },
        "id": "aJCCSPFySEdj",
        "outputId": "dbd79e10-a93e-4897-c791-8cec381092ec"
      },
      "execution_count": 3,
      "outputs": [
        {
          "output_type": "stream",
          "name": "stdout",
          "text": [
            "My name is  Abhisek Kumar\n"
          ]
        }
      ]
    },
    {
      "cell_type": "code",
      "source": [
        "# Q2.  Write a code to find the length of the string \"Hello World\".\n",
        "\n",
        "my_string=\"Hello World\"\n",
        "length=0\n",
        "for i in my_string:\n",
        "  length+=1\n",
        "\n",
        "print(f\"Length of {my_string} is {length}\")\n",
        "\n",
        "# alternatively, len(my_string) method could also have been used.\n"
      ],
      "metadata": {
        "colab": {
          "base_uri": "https://localhost:8080/"
        },
        "id": "s_KnJNcCS0ZV",
        "outputId": "0a4bccc2-c067-4825-b23a-3cf8a6eea753"
      },
      "execution_count": null,
      "outputs": [
        {
          "output_type": "stream",
          "name": "stdout",
          "text": [
            "Length of Hello World is 11\n"
          ]
        }
      ]
    },
    {
      "cell_type": "code",
      "source": [
        "# Q3.  Write a code to slice the first 3 characters from the string \"Python Programming\".\n",
        "\n",
        "my_string=\"Python Programming\"\n",
        "print(my_string[:3])"
      ],
      "metadata": {
        "colab": {
          "base_uri": "https://localhost:8080/"
        },
        "id": "v2ZnH9OxTxNA",
        "outputId": "98001daa-5199-46af-9a40-11608c9d8635"
      },
      "execution_count": null,
      "outputs": [
        {
          "output_type": "stream",
          "name": "stdout",
          "text": [
            "Pyt\n"
          ]
        }
      ]
    },
    {
      "cell_type": "code",
      "source": [
        "# Q4. Write a code to convert the string \"hello\" to uppercase.\n",
        "\n",
        "my_string=\"hello\"\n",
        "print(my_string.upper())\n"
      ],
      "metadata": {
        "colab": {
          "base_uri": "https://localhost:8080/"
        },
        "id": "fDD4GALfUJRY",
        "outputId": "3fce40c8-b782-4244-bb89-b69f4cc9f135"
      },
      "execution_count": null,
      "outputs": [
        {
          "output_type": "stream",
          "name": "stdout",
          "text": [
            "HELLO\n"
          ]
        }
      ]
    },
    {
      "cell_type": "code",
      "source": [
        "# Q5. Write a code to replace the word \"apple\" with \"orange\" in the string \"I like apple\".\n",
        "\n",
        "my_string=\"I like apple\"\n",
        "new_string=my_string.replace(\"apple\",\"orange\")\n",
        "print(new_string)"
      ],
      "metadata": {
        "colab": {
          "base_uri": "https://localhost:8080/"
        },
        "id": "l_017vFuUdHC",
        "outputId": "b8fa1254-6d7f-4ac4-e951-6e0fe8b659c3"
      },
      "execution_count": null,
      "outputs": [
        {
          "output_type": "stream",
          "name": "stdout",
          "text": [
            "I like orange\n"
          ]
        }
      ]
    },
    {
      "cell_type": "code",
      "source": [
        "# Q6. Write a code to create a list with numbers 1 to 5 and print it.\n",
        "\n",
        "my_list=[i for i in range(1,6)]\n",
        "print(my_list)"
      ],
      "metadata": {
        "colab": {
          "base_uri": "https://localhost:8080/"
        },
        "id": "fx0M9jpSVLE7",
        "outputId": "6964b45d-df1c-4955-aa22-f33e342e2aea"
      },
      "execution_count": null,
      "outputs": [
        {
          "output_type": "stream",
          "name": "stdout",
          "text": [
            "[1, 2, 3, 4, 5]\n"
          ]
        }
      ]
    },
    {
      "cell_type": "code",
      "source": [
        "# Q7. Write a code to append the number 10 to the list [1, 2, 3, 4].\n",
        "\n",
        "my_list=[1, 2, 3, 4]\n",
        "my_list.append(10)\n",
        "print(my_list)"
      ],
      "metadata": {
        "colab": {
          "base_uri": "https://localhost:8080/"
        },
        "id": "eqNr2LtHV3BU",
        "outputId": "f84a08f3-0b55-4dcf-d6a7-9111d989e586"
      },
      "execution_count": null,
      "outputs": [
        {
          "output_type": "stream",
          "name": "stdout",
          "text": [
            "[1, 2, 3, 4, 10]\n"
          ]
        }
      ]
    },
    {
      "cell_type": "code",
      "source": [
        "# Q8. Write a code to remove the number 3 from the list [1, 2, 3, 4, 5].\n",
        "my_list =[1, 2, 3, 4, 5]\n",
        "my_list.remove(3)\n",
        "print(my_list)"
      ],
      "metadata": {
        "colab": {
          "base_uri": "https://localhost:8080/"
        },
        "id": "bw04167xWTNl",
        "outputId": "ba7a520f-6223-4ab6-9569-c2d2cd9859eb"
      },
      "execution_count": null,
      "outputs": [
        {
          "output_type": "stream",
          "name": "stdout",
          "text": [
            "[1, 2, 4, 5]\n"
          ]
        }
      ]
    },
    {
      "cell_type": "code",
      "source": [
        "# Q9. Write a code to access the second element in the list ['a', 'b', 'c', 'd']\n",
        "\n",
        "my_list=['a', 'b', 'c', 'd']\n",
        "print(my_list[1])\n"
      ],
      "metadata": {
        "colab": {
          "base_uri": "https://localhost:8080/"
        },
        "id": "w2EH5TRVWwVS",
        "outputId": "5e0209ad-81d7-455e-f395-8debbf8ba282"
      },
      "execution_count": null,
      "outputs": [
        {
          "output_type": "stream",
          "name": "stdout",
          "text": [
            "b\n"
          ]
        }
      ]
    },
    {
      "cell_type": "code",
      "source": [
        "# Q10. Write a code to reverse the list [10, 20, 30, 40, 50].\n",
        "\n",
        "my_list=[10, 20, 30, 40, 50]\n",
        "print(my_list[::-1])"
      ],
      "metadata": {
        "colab": {
          "base_uri": "https://localhost:8080/"
        },
        "id": "nh5q0JBfXWFY",
        "outputId": "f8da6287-2adc-47df-d17c-6f19b843f746"
      },
      "execution_count": null,
      "outputs": [
        {
          "output_type": "stream",
          "name": "stdout",
          "text": [
            "[50, 40, 30, 20, 10]\n"
          ]
        }
      ]
    },
    {
      "cell_type": "code",
      "source": [
        "#Q11. Write a code to create a tuple with the elements 100, 200, 300 and print it.\n",
        "\n",
        "my_tuple=(100, 200, 300)\n",
        "print(my_tuple)\n",
        "\n",
        "\n"
      ],
      "metadata": {
        "colab": {
          "base_uri": "https://localhost:8080/"
        },
        "id": "elRcGg4JXyT8",
        "outputId": "86a141ab-e678-4c78-8d78-7eade47a5a4c"
      },
      "execution_count": null,
      "outputs": [
        {
          "output_type": "stream",
          "name": "stdout",
          "text": [
            "(100, 200, 300)\n"
          ]
        }
      ]
    },
    {
      "cell_type": "code",
      "source": [
        "#12. Write a code to access second-to-last element of the tuple ('red', 'green', 'blue', 'yellow').\n",
        "\n",
        "my_tuple=('red', 'green', 'blue', 'yellow')\n",
        "print(my_tuple[-2])"
      ],
      "metadata": {
        "colab": {
          "base_uri": "https://localhost:8080/"
        },
        "id": "qpMp8NSyYS-G",
        "outputId": "530e9883-7a65-4b98-bc20-bc00a61d5757"
      },
      "execution_count": null,
      "outputs": [
        {
          "output_type": "stream",
          "name": "stdout",
          "text": [
            "blue\n"
          ]
        }
      ]
    },
    {
      "cell_type": "code",
      "source": [
        "#Q13.  Write a code to find the minimum number in the tuple (10, 20, 5, 15).\n",
        "\n",
        "my_tuple=(10, 20, 5, 15)\n",
        "min_num=my_tuple[0]\n",
        "for i in my_tuple:\n",
        "  if i < min_num:\n",
        "    min_num=i\n",
        "\n",
        "print(min_num)\n",
        "\n",
        "# Alternatively min(my_tuple) method can be used to find min number in tuple"
      ],
      "metadata": {
        "colab": {
          "base_uri": "https://localhost:8080/"
        },
        "id": "sE0KEDuKZJ09",
        "outputId": "9f388ac7-13ce-4797-8c65-bdee75b1972d"
      },
      "execution_count": null,
      "outputs": [
        {
          "output_type": "stream",
          "name": "stdout",
          "text": [
            "5\n"
          ]
        }
      ]
    },
    {
      "cell_type": "code",
      "source": [
        "# Q14. Write a code to find the index of the element \"cat\" in the tuple ('dog', 'cat', 'rabbit')\n",
        "\n",
        "my_tuple=('dog', 'cat', 'rabbit')\n",
        "for i in range(len(my_tuple)):\n",
        "  if my_tuple[i] == \"cat\":\n",
        "    print(f\"The index of the element 'cat' in tuple is {i}\")\n"
      ],
      "metadata": {
        "colab": {
          "base_uri": "https://localhost:8080/"
        },
        "id": "476wFav8bSSl",
        "outputId": "b9f4dc57-ff49-4a6c-fee6-7bc9fe12550c"
      },
      "execution_count": null,
      "outputs": [
        {
          "output_type": "stream",
          "name": "stdout",
          "text": [
            "The index of the element 'cat' in tuple is 1\n"
          ]
        }
      ]
    },
    {
      "cell_type": "code",
      "source": [
        "# Q15. Write a code to create a tuple containing three different fruits and check if \"kiwi\" is in it.\n",
        "\n",
        "my_tuple = ('apple','banana','mango','grapes','Kiwi')\n",
        "count=0\n",
        "for i in my_tuple:\n",
        "  if i.lower()==\"kiwi\":\n",
        "    count+=1\n",
        "\n",
        "if count >=1:\n",
        "  print(f'\"kiwi\" is present in {my_tuple}')\n",
        "else:\n",
        "  print(f'\"kiwi\" is not present in {my_tuple}')\n"
      ],
      "metadata": {
        "colab": {
          "base_uri": "https://localhost:8080/"
        },
        "id": "UqrymtK0cFZZ",
        "outputId": "e657dba5-d77a-4bf3-8ea9-97810cf06f25"
      },
      "execution_count": null,
      "outputs": [
        {
          "output_type": "stream",
          "name": "stdout",
          "text": [
            "\"kiwi\" is present in ('apple', 'banana', 'mango', 'grapes', 'Kiwi')\n"
          ]
        }
      ]
    },
    {
      "cell_type": "code",
      "source": [
        "#Q16.  Write a code to create a set with the elements 'a', 'b', 'c' and print it.\n",
        "\n",
        "my_set={'a','b','c'}\n",
        "print(my_set)\n"
      ],
      "metadata": {
        "colab": {
          "base_uri": "https://localhost:8080/"
        },
        "id": "7Y0_glc9xD0c",
        "outputId": "468c75b2-f0ac-4123-df2e-1e7376bcc9bf"
      },
      "execution_count": null,
      "outputs": [
        {
          "output_type": "stream",
          "name": "stdout",
          "text": [
            "{'a', 'c', 'b'}\n"
          ]
        }
      ]
    },
    {
      "cell_type": "code",
      "source": [
        "# Q17. Write a code to clear all elements from the set {1, 2, 3, 4, 5}.\n",
        "\n",
        "my_set = {1, 2, 3, 4, 5}\n",
        "\n",
        "my_set.clear()\n",
        "print(my_set)\n"
      ],
      "metadata": {
        "colab": {
          "base_uri": "https://localhost:8080/"
        },
        "id": "fEibBwEYyNLm",
        "outputId": "26fe308b-8dea-4a01-e2ba-0107f1f3e904"
      },
      "execution_count": null,
      "outputs": [
        {
          "output_type": "stream",
          "name": "stdout",
          "text": [
            "set()\n"
          ]
        }
      ]
    },
    {
      "cell_type": "code",
      "source": [
        "# 18. Write a code to remove the element 4 from the set {1, 2, 3, 4}\n",
        "\n",
        "my_set = {1, 2, 3, 4}\n",
        "\n",
        "my_set.remove(4)\n",
        "print(my_set)"
      ],
      "metadata": {
        "colab": {
          "base_uri": "https://localhost:8080/"
        },
        "id": "tsRGiH_0yjNw",
        "outputId": "8b0e04ec-a0b4-40be-8824-4e9571b28f1b"
      },
      "execution_count": null,
      "outputs": [
        {
          "output_type": "stream",
          "name": "stdout",
          "text": [
            "{1, 2, 3}\n"
          ]
        }
      ]
    },
    {
      "cell_type": "code",
      "source": [
        "# 19. Write a code to find the union of two sets {1, 2, 3} and {3, 4, 5}.\n",
        "\n",
        "a={1, 2, 3}\n",
        "b={3, 4, 5}\n",
        "\n",
        "print(a|b)"
      ],
      "metadata": {
        "colab": {
          "base_uri": "https://localhost:8080/"
        },
        "id": "NZOWq_A5y1UQ",
        "outputId": "3a6179b3-9c19-4898-8c1a-a5f8d8554f41"
      },
      "execution_count": null,
      "outputs": [
        {
          "output_type": "stream",
          "name": "stdout",
          "text": [
            "{1, 2, 3, 4, 5}\n"
          ]
        }
      ]
    },
    {
      "cell_type": "code",
      "source": [
        "# 20. Write a code to find the intersection of two sets {1, 2, 3} and {2, 3, 4}\n",
        "\n",
        "a = {1, 2, 3}\n",
        "b = {2, 3, 4}\n",
        "print(a&b)"
      ],
      "metadata": {
        "colab": {
          "base_uri": "https://localhost:8080/"
        },
        "id": "XCGe2djeziaZ",
        "outputId": "104c66fd-035c-45ac-aee2-d22b84995064"
      },
      "execution_count": null,
      "outputs": [
        {
          "output_type": "stream",
          "name": "stdout",
          "text": [
            "{2, 3}\n"
          ]
        }
      ]
    },
    {
      "cell_type": "code",
      "source": [
        "# 21. Write a code to create a dictionary with the keys \"name\", \"age\", and \"city\", and print it\n",
        "\n",
        "my_dict={\"name\":\"Abhisek\",\"age\":49,\"city\":\"ChinchPokli\"}\n",
        "print(my_dict)"
      ],
      "metadata": {
        "colab": {
          "base_uri": "https://localhost:8080/"
        },
        "id": "QVt56Dqg0y7k",
        "outputId": "4c4c6476-2491-4d36-80cb-1ddaceb25a14"
      },
      "execution_count": null,
      "outputs": [
        {
          "output_type": "stream",
          "name": "stdout",
          "text": [
            "{'name': 'Abhisek', 'age': 49, 'city': 'ChinchPokli'}\n"
          ]
        }
      ]
    },
    {
      "cell_type": "code",
      "source": [
        "# 22. Write a code to add a new key-value pair \"country\": \"USA\" to the dictionary {'name': 'John', 'age': 25}.\n",
        "\n",
        "my_dict2={'name': 'John', 'age': 25}\n",
        "\n",
        "my_dict2[\"country\"]=\"USA\"\n",
        "print(my_dict2)\n"
      ],
      "metadata": {
        "colab": {
          "base_uri": "https://localhost:8080/"
        },
        "id": "AiszZx7w1kM1",
        "outputId": "508e8ae1-5625-473e-90fa-3783f9bf8b8c"
      },
      "execution_count": null,
      "outputs": [
        {
          "output_type": "stream",
          "name": "stdout",
          "text": [
            "{'name': 'John', 'age': 25, 'country': 'USA'}\n"
          ]
        }
      ]
    },
    {
      "cell_type": "code",
      "source": [
        "# Q23.Write a code to access the value associated with the key \"name\" in the dictionary {'name': 'Alice', 'age': 30}.\n",
        "\n",
        "my_dict3={'name': 'Alice', 'age': 30}\n",
        "print(my_dict3[\"name\"])"
      ],
      "metadata": {
        "colab": {
          "base_uri": "https://localhost:8080/"
        },
        "id": "K2fjr0qA14Oc",
        "outputId": "323eeec2-d0d3-4a21-ba41-feaae09ed67f"
      },
      "execution_count": null,
      "outputs": [
        {
          "output_type": "stream",
          "name": "stdout",
          "text": [
            "Alice\n"
          ]
        }
      ]
    },
    {
      "cell_type": "code",
      "source": [
        "# 24. Write a code to remove the key \"age\" from the dictionary {'name': 'Bob', 'age': 22, 'city': 'New York'}\n",
        "\n",
        "my_dict4={'name': 'Bob', 'age': 22, 'city': 'New York'}\n",
        "my_dict4.pop(\"age\")\n",
        "print(my_dict4)"
      ],
      "metadata": {
        "colab": {
          "base_uri": "https://localhost:8080/"
        },
        "id": "nojxXOhO2Ha8",
        "outputId": "85d67e96-bfe2-4491-83d2-88eeacb25649"
      },
      "execution_count": null,
      "outputs": [
        {
          "output_type": "stream",
          "name": "stdout",
          "text": [
            "{'name': 'Bob', 'city': 'New York'}\n"
          ]
        }
      ]
    },
    {
      "cell_type": "code",
      "source": [
        "# 25. Write a code to check if the key \"city\" exists in the dictionary {'name': 'Alice', 'city': 'Paris'}\n",
        "\n",
        "my_dict5={'name': 'Alice', 'city': 'Paris'}\n",
        "\n",
        "if \"city\" in my_dict5:\n",
        "    print(\"Key 'city' exists in the dictionary.\")\n",
        "else:\n",
        "    print(\"Key 'city' does not exist in the dictionary.\")\n",
        "\n"
      ],
      "metadata": {
        "colab": {
          "base_uri": "https://localhost:8080/"
        },
        "id": "DMFDh-842msb",
        "outputId": "04e85b3c-b10d-4f68-b17a-a6af505c8b93"
      },
      "execution_count": null,
      "outputs": [
        {
          "output_type": "stream",
          "name": "stdout",
          "text": [
            "Key 'city' exists in the dictionary.\n"
          ]
        }
      ]
    },
    {
      "cell_type": "code",
      "source": [
        "# 26. Write a code to create a list, a tuple, and a dictionary, and print them all\n",
        "\n",
        "# Creating a list\n",
        "my_list = [10, 20, 30]\n",
        "\n",
        "# Creating a tuple\n",
        "my_tuple = ('apple', 'banana', 'cherry')\n",
        "\n",
        "# Creating a dictionary\n",
        "my_dict = {'name': 'Alice', 'age': 25, 'city': 'Paris'}\n",
        "\n",
        "# Printing all\n",
        "print(\"List:\", my_list)\n",
        "print(\"Tuple:\", my_tuple)\n",
        "print(\"Dictionary:\", my_dict)\n"
      ],
      "metadata": {
        "colab": {
          "base_uri": "https://localhost:8080/"
        },
        "id": "beL25n433Hnh",
        "outputId": "5e01217a-eacf-48ef-a792-9faeef81aaac"
      },
      "execution_count": null,
      "outputs": [
        {
          "output_type": "stream",
          "name": "stdout",
          "text": [
            "List: [10, 20, 30]\n",
            "Tuple: ('apple', 'banana', 'cherry')\n",
            "Dictionary: {'name': 'Alice', 'age': 25, 'city': 'Paris'}\n"
          ]
        }
      ]
    },
    {
      "cell_type": "code",
      "source": [
        "# 27. Write a code to create a list of 5 random numbers between 1 and 100, sort it in ascending order, and print the result.(replaced)\n",
        "\n",
        "import random\n",
        "\n",
        "random_list=[random.randint(1,100)for i in range(5)]\n",
        "random_list.sort()\n",
        "\n",
        "print(random_list)"
      ],
      "metadata": {
        "colab": {
          "base_uri": "https://localhost:8080/"
        },
        "id": "aLnztxMm3XeQ",
        "outputId": "574ecdfb-f026-4fa5-9ad1-6399473e6d8a"
      },
      "execution_count": null,
      "outputs": [
        {
          "output_type": "stream",
          "name": "stdout",
          "text": [
            "[28, 47, 62, 99, 100]\n"
          ]
        }
      ]
    },
    {
      "cell_type": "code",
      "source": [
        "# 28. Write a code to create a list with strings and print the element at the third index\n",
        "\n",
        "my_list = [\"apple\", \"banana\", \"cherry\", \"date\", \"elderberry\"]\n",
        "\n",
        "# printing the element at the third index (4th element)\n",
        "print(\"Element at the third index:\", my_list[3])\n",
        "\n",
        "\n"
      ],
      "metadata": {
        "colab": {
          "base_uri": "https://localhost:8080/"
        },
        "id": "nDvMGylL4Hy0",
        "outputId": "68993675-f7ae-4b1a-90b7-9aecee9bf306"
      },
      "execution_count": null,
      "outputs": [
        {
          "output_type": "stream",
          "name": "stdout",
          "text": [
            "Element at the third index: date\n"
          ]
        }
      ]
    },
    {
      "cell_type": "code",
      "source": [
        "# 29. Write a code to combine two dictionaries into one and print the result\n",
        "\n",
        "\n",
        "dict1 = {'name': 'Alice', 'age': 25}\n",
        "dict2 = {'city': 'Paris', 'country': 'France'}\n",
        "\n",
        "dict1.update(dict2)\n",
        "print(\"Combined Dictionary:\", dict1)\n"
      ],
      "metadata": {
        "colab": {
          "base_uri": "https://localhost:8080/"
        },
        "id": "MBAZJuWx4k6p",
        "outputId": "59c843a8-1679-4f3f-9ff2-50b1e769336d"
      },
      "execution_count": null,
      "outputs": [
        {
          "output_type": "stream",
          "name": "stdout",
          "text": [
            "Combined Dictionary: {'name': 'Alice', 'age': 25, 'city': 'Paris', 'country': 'France'}\n"
          ]
        }
      ]
    },
    {
      "cell_type": "code",
      "source": [
        "# 30. Write a code to convert a list of strings into a set\n",
        "\n",
        "my_list = [\"apple\", \"banana\", \"cherry\", \"apple\", \"date\"]\n",
        "my_set = set(my_list)\n",
        "print(\"Set from list:\", my_set)\n"
      ],
      "metadata": {
        "colab": {
          "base_uri": "https://localhost:8080/"
        },
        "id": "llnszma05AVC",
        "outputId": "9b30f36f-6a35-4cb2-e87a-cac01d249ad1"
      },
      "execution_count": null,
      "outputs": [
        {
          "output_type": "stream",
          "name": "stdout",
          "text": [
            "Set from list: {'banana', 'date', 'apple', 'cherry'}\n"
          ]
        }
      ]
    }
  ]
}